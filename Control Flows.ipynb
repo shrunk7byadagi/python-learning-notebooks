{
 "cells": [
  {
   "cell_type": "code",
   "execution_count": 1,
   "id": "7a3e7e6d-644b-4f5c-aa86-cb1f3e6e6fd0",
   "metadata": {},
   "outputs": [],
   "source": [
    "new_var = True"
   ]
  },
  {
   "cell_type": "code",
   "execution_count": 3,
   "id": "e7596969-e508-48ef-bcbc-470d3562774b",
   "metadata": {},
   "outputs": [
    {
     "name": "stdout",
     "output_type": "stream",
     "text": [
      "hello\n"
     ]
    }
   ],
   "source": [
    "if new_var:\n",
    "    print('hello')"
   ]
  },
  {
   "cell_type": "code",
   "execution_count": 5,
   "id": "ad4df82f-9a26-4881-9e6d-c4e621b8bb0d",
   "metadata": {},
   "outputs": [],
   "source": [
    "item = 'apple'"
   ]
  },
  {
   "cell_type": "code",
   "execution_count": 7,
   "id": "286e5baf-b2f6-4b65-984e-c78e755b3ca3",
   "metadata": {},
   "outputs": [],
   "source": [
    "shopping_list = []"
   ]
  },
  {
   "cell_type": "code",
   "execution_count": 9,
   "id": "3fdd120d-65fa-4704-80fe-33874fac1950",
   "metadata": {},
   "outputs": [],
   "source": [
    "if item not in shopping_list:\n",
    "    shopping_list.append(item)"
   ]
  },
  {
   "cell_type": "code",
   "execution_count": 11,
   "id": "272151bd-3526-4a86-b77b-ad23a6e9003f",
   "metadata": {},
   "outputs": [
    {
     "data": {
      "text/plain": [
       "['apple']"
      ]
     },
     "execution_count": 11,
     "metadata": {},
     "output_type": "execute_result"
    }
   ],
   "source": [
    "shopping_list"
   ]
  },
  {
   "cell_type": "code",
   "execution_count": null,
   "id": "ecce4393-1c7a-4515-a2cf-3dd7626a5ba3",
   "metadata": {},
   "outputs": [],
   "source": []
  },
  {
   "cell_type": "code",
   "execution_count": null,
   "id": "829f7019-da03-4052-b258-9c6f3613bcee",
   "metadata": {},
   "outputs": [],
   "source": []
  }
 ],
 "metadata": {
  "kernelspec": {
   "display_name": "Python [conda env:base] *",
   "language": "python",
   "name": "conda-base-py"
  },
  "language_info": {
   "codemirror_mode": {
    "name": "ipython",
    "version": 3
   },
   "file_extension": ".py",
   "mimetype": "text/x-python",
   "name": "python",
   "nbconvert_exporter": "python",
   "pygments_lexer": "ipython3",
   "version": "3.12.7"
  }
 },
 "nbformat": 4,
 "nbformat_minor": 5
}
