{
 "cells": [
  {
   "cell_type": "markdown",
   "id": "42cbaf6c-345c-4d02-8563-a91c650c75f6",
   "metadata": {},
   "source": [
    "# Decorators"
   ]
  },
  {
   "cell_type": "code",
   "execution_count": 5,
   "id": "68fd1a95-972e-4e98-99f7-d20e5ee50818",
   "metadata": {},
   "outputs": [],
   "source": [
    "def add(x):\n",
    "    return x + 1"
   ]
  },
  {
   "cell_type": "code",
   "execution_count": 7,
   "id": "bd0185a9-ce38-4c81-a2aa-ae1e4b1ac834",
   "metadata": {},
   "outputs": [],
   "source": [
    "def sub(y):\n",
    "    return y - 1"
   ]
  },
  {
   "cell_type": "code",
   "execution_count": 9,
   "id": "1b6ce691-7019-40b8-ae86-73a5dc6915ed",
   "metadata": {},
   "outputs": [],
   "source": [
    "def greeting(func, x):\n",
    "    result = func(x)\n",
    "    return result    "
   ]
  },
  {
   "cell_type": "code",
   "execution_count": 11,
   "id": "96f0f92a-da2f-48b9-9ed2-c76a09739984",
   "metadata": {},
   "outputs": [
    {
     "data": {
      "text/plain": [
       "6"
      ]
     },
     "execution_count": 11,
     "metadata": {},
     "output_type": "execute_result"
    }
   ],
   "source": [
    "greeting(add,5)"
   ]
  },
  {
   "cell_type": "markdown",
   "id": "6213ea53-9079-45cd-81ad-32b83833cbfb",
   "metadata": {},
   "source": [
    "# Example"
   ]
  },
  {
   "cell_type": "code",
   "execution_count": 32,
   "id": "e1e79daa-5e82-47f4-810f-ffa00586c67e",
   "metadata": {},
   "outputs": [],
   "source": [
    "@testing\n",
    "def original_func():\n",
    "    print('Im the original function')\n",
    "\n",
    "def testing(func):\n",
    "    def testing2():\n",
    "        print('Line 1')\n",
    "        func()\n",
    "        print('Line 2')\n",
    "    return testing2    \n",
    "        "
   ]
  },
  {
   "cell_type": "code",
   "execution_count": 34,
   "id": "f1ca5b5e-75a2-4475-945a-37ec8359153a",
   "metadata": {},
   "outputs": [],
   "source": [
    "testy = testing(original_func)"
   ]
  },
  {
   "cell_type": "code",
   "execution_count": 36,
   "id": "6ca189aa-d292-40d8-8b33-f50a7ffeacae",
   "metadata": {},
   "outputs": [
    {
     "name": "stdout",
     "output_type": "stream",
     "text": [
      "Line 1\n",
      "Line 1\n",
      "Im the original function\n",
      "Line 2\n",
      "Line 2\n"
     ]
    }
   ],
   "source": [
    "testy()"
   ]
  },
  {
   "cell_type": "code",
   "execution_count": 40,
   "id": "34469a38-4d91-477e-8217-a430cce4bed8",
   "metadata": {},
   "outputs": [
    {
     "name": "stdout",
     "output_type": "stream",
     "text": [
      "Line 1\n",
      "Im the original function\n",
      "Line 2\n"
     ]
    }
   ],
   "source": [
    "original_func()  #After adding @testing we dont need to testy = testing(original_func)"
   ]
  },
  {
   "cell_type": "code",
   "execution_count": null,
   "id": "14307f63-c255-47d6-94f7-3d6cc664baef",
   "metadata": {},
   "outputs": [],
   "source": []
  }
 ],
 "metadata": {
  "kernelspec": {
   "display_name": "Python [conda env:base] *",
   "language": "python",
   "name": "conda-base-py"
  },
  "language_info": {
   "codemirror_mode": {
    "name": "ipython",
    "version": 3
   },
   "file_extension": ".py",
   "mimetype": "text/x-python",
   "name": "python",
   "nbconvert_exporter": "python",
   "pygments_lexer": "ipython3",
   "version": "3.12.7"
  }
 },
 "nbformat": 4,
 "nbformat_minor": 5
}
