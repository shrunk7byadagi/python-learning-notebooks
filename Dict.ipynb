{
 "cells": [
  {
   "cell_type": "code",
   "execution_count": 1,
   "id": "0aac784b-2fd9-4c32-b137-cdc87af97e97",
   "metadata": {},
   "outputs": [],
   "source": [
    "my_dict = {'name':1,'age':21,1:[1,2,3,4]}"
   ]
  },
  {
   "cell_type": "code",
   "execution_count": 3,
   "id": "033b0a67-e761-4092-8534-ad1d207d3057",
   "metadata": {},
   "outputs": [
    {
     "data": {
      "text/plain": [
       "{'name': 1, 'age': 21, 1: [1, 2, 3, 4]}"
      ]
     },
     "execution_count": 3,
     "metadata": {},
     "output_type": "execute_result"
    }
   ],
   "source": [
    "my_dict"
   ]
  },
  {
   "cell_type": "code",
   "execution_count": 5,
   "id": "f9d09e99-6208-434b-aa27-c99fd2a38922",
   "metadata": {},
   "outputs": [],
   "source": [
    "name_list = ['peter','saron','bmw']\n",
    "age_list = [21,24,26]"
   ]
  },
  {
   "cell_type": "code",
   "execution_count": 7,
   "id": "ecfad1b0-c3c1-4b67-8247-eb27eee1ce0b",
   "metadata": {},
   "outputs": [
    {
     "data": {
      "text/plain": [
       "{'peter': 21, 'saron': 24, 'bmw': 26}"
      ]
     },
     "execution_count": 7,
     "metadata": {},
     "output_type": "execute_result"
    }
   ],
   "source": [
    "my_dict2 = dict(zip(name_list,age_list))\n",
    "my_dict2"
   ]
  },
  {
   "cell_type": "markdown",
   "id": "1db40af5-411c-4f01-89a0-87b511f98eb9",
   "metadata": {},
   "source": [
    "# Accesing Dict"
   ]
  },
  {
   "cell_type": "code",
   "execution_count": 11,
   "id": "cac8e541-643e-4e46-9812-bfc5c608431f",
   "metadata": {},
   "outputs": [
    {
     "data": {
      "text/plain": [
       "1"
      ]
     },
     "execution_count": 11,
     "metadata": {},
     "output_type": "execute_result"
    }
   ],
   "source": [
    "my_dict['name']"
   ]
  },
  {
   "cell_type": "code",
   "execution_count": 13,
   "id": "9e9f0b45-1e10-4a9b-a042-30e4f92bf690",
   "metadata": {},
   "outputs": [
    {
     "data": {
      "text/plain": [
       "1"
      ]
     },
     "execution_count": 13,
     "metadata": {},
     "output_type": "execute_result"
    }
   ],
   "source": [
    "my_dict.get('name')"
   ]
  },
  {
   "cell_type": "markdown",
   "id": "b0b24ecc-481e-49f5-9752-6821d57d507f",
   "metadata": {},
   "source": [
    "# Changing & Accessing Dict elements"
   ]
  },
  {
   "cell_type": "code",
   "execution_count": 17,
   "id": "c950b7be-966d-4e6e-8040-c38b054c0d6e",
   "metadata": {},
   "outputs": [],
   "source": [
    "new_dict = {'banana':1.50,'peer':0.99,'milk':1.00}"
   ]
  },
  {
   "cell_type": "code",
   "execution_count": 19,
   "id": "26c6b589-1149-4720-aa24-10e1229fcb5d",
   "metadata": {},
   "outputs": [],
   "source": [
    "new_dict['milk'] = 2.00"
   ]
  },
  {
   "cell_type": "code",
   "execution_count": 21,
   "id": "1b5a2d59-1b98-400c-8295-a6a0dbbd5e99",
   "metadata": {},
   "outputs": [
    {
     "data": {
      "text/plain": [
       "{'banana': 1.5, 'peer': 0.99, 'milk': 2.0}"
      ]
     },
     "execution_count": 21,
     "metadata": {},
     "output_type": "execute_result"
    }
   ],
   "source": [
    "new_dict"
   ]
  },
  {
   "cell_type": "markdown",
   "id": "4d2c1f05-9206-4991-904b-4f97a4b36425",
   "metadata": {},
   "source": [
    "# Adding"
   ]
  },
  {
   "cell_type": "code",
   "execution_count": 25,
   "id": "25fcb268-e122-4d23-b9f9-559ebc9d4ed9",
   "metadata": {},
   "outputs": [],
   "source": [
    "new_dict['bread'] =1.00"
   ]
  },
  {
   "cell_type": "code",
   "execution_count": 27,
   "id": "1f19841f-5d1e-40ed-8e01-d2c164094db0",
   "metadata": {},
   "outputs": [
    {
     "data": {
      "text/plain": [
       "{'banana': 1.5, 'peer': 0.99, 'milk': 2.0, 'bread': 1.0}"
      ]
     },
     "execution_count": 27,
     "metadata": {},
     "output_type": "execute_result"
    }
   ],
   "source": [
    "new_dict"
   ]
  },
  {
   "cell_type": "markdown",
   "id": "d5f38d86-083d-4465-93c9-c0ece46a920c",
   "metadata": {},
   "source": [
    "# Comprehensions"
   ]
  },
  {
   "cell_type": "code",
   "execution_count": 33,
   "id": "23e25418-fa84-4ccf-93f5-64d9ec4ec17b",
   "metadata": {},
   "outputs": [
    {
     "data": {
      "text/plain": [
       "{0: 0, 1: 1, 2: 4, 3: 9, 4: 16, 5: 25}"
      ]
     },
     "execution_count": 33,
     "metadata": {},
     "output_type": "execute_result"
    }
   ],
   "source": [
    "squares = {x: x * x for x in range(6)}\n",
    "squares"
   ]
  },
  {
   "cell_type": "code",
   "execution_count": null,
   "id": "f8763a27-1018-432e-af68-1049fb6991e3",
   "metadata": {},
   "outputs": [],
   "source": []
  }
 ],
 "metadata": {
  "kernelspec": {
   "display_name": "Python [conda env:base] *",
   "language": "python",
   "name": "conda-base-py"
  },
  "language_info": {
   "codemirror_mode": {
    "name": "ipython",
    "version": 3
   },
   "file_extension": ".py",
   "mimetype": "text/x-python",
   "name": "python",
   "nbconvert_exporter": "python",
   "pygments_lexer": "ipython3",
   "version": "3.12.7"
  }
 },
 "nbformat": 4,
 "nbformat_minor": 5
}
