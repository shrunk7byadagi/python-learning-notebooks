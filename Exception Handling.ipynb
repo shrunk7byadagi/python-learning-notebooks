{
 "cells": [
  {
   "cell_type": "markdown",
   "id": "f9f61f94-e356-44b4-b7cc-80c957043088",
   "metadata": {},
   "source": [
    "# Exception Handling"
   ]
  },
  {
   "cell_type": "code",
   "execution_count": 6,
   "id": "a8b68de9-ee32-4356-87f3-4ada173a87e6",
   "metadata": {},
   "outputs": [],
   "source": [
    "def divider(x,y):\n",
    "    return x/y"
   ]
  },
  {
   "cell_type": "code",
   "execution_count": 14,
   "id": "e9536592-770d-43b0-bfdc-0764bf2698c3",
   "metadata": {},
   "outputs": [
    {
     "name": "stdout",
     "output_type": "stream",
     "text": [
      "Working as expected\n",
      "5.0\n",
      "I will always execute\n"
     ]
    }
   ],
   "source": [
    "try:\n",
    "    result = divider(10,2)\n",
    "except ZeroDivisionError:\n",
    "    print('You cant divide by zero')\n",
    "except:\n",
    "    print('Are you entering a number')\n",
    "else:\n",
    "    print('Working as expected')\n",
    "    print(result)\n",
    "finally:\n",
    "    print('I will always execute')"
   ]
  },
  {
   "cell_type": "markdown",
   "id": "a1a48c95-f060-45b0-9329-acfb9cad4212",
   "metadata": {},
   "source": [
    "# User-Defined Exceptions"
   ]
  },
  {
   "cell_type": "markdown",
   "id": "fe4f71a0-fa58-45c9-9f22-bbfb8bd8bba1",
   "metadata": {},
   "source": [
    "## Raise"
   ]
  },
  {
   "cell_type": "code",
   "execution_count": 23,
   "id": "67c2f69c-bc27-4022-9174-1b442ab985d9",
   "metadata": {},
   "outputs": [],
   "source": [
    "def play_again():\n",
    "    replay = input('Do you want to play? :')\n",
    "\n",
    "    if replay.lower() not in ['yes','no']:\n",
    "        raise ValueError('Answer in Yes or No')"
   ]
  },
  {
   "cell_type": "code",
   "execution_count": 25,
   "id": "9c092497-7459-4a73-99e5-fcd667d44a4b",
   "metadata": {},
   "outputs": [
    {
     "name": "stdin",
     "output_type": "stream",
     "text": [
      "Do you want to play? : no\n"
     ]
    }
   ],
   "source": [
    "try:\n",
    "    play_again()\n",
    "except ValueError:\n",
    "    print('Please answer yes or no')\n",
    "    play_again()"
   ]
  },
  {
   "cell_type": "markdown",
   "id": "3de0b344-13e4-478d-b382-2b215e58da81",
   "metadata": {},
   "source": [
    "## Custom/ User Defined Exception"
   ]
  },
  {
   "cell_type": "code",
   "execution_count": 29,
   "id": "fc5976d2-a6ff-42ee-b7d9-720b5602aab6",
   "metadata": {},
   "outputs": [],
   "source": [
    "class MarksNotEnoughException(Exception):\n",
    "\n",
    "    def __init__(self,message):\n",
    "        self.message = message\n"
   ]
  },
  {
   "cell_type": "code",
   "execution_count": 35,
   "id": "4871b3f4-524c-4680-acb4-a6634bc04164",
   "metadata": {},
   "outputs": [
    {
     "name": "stdin",
     "output_type": "stream",
     "text": [
      "Enter your Marks: 35\n"
     ]
    },
    {
     "name": "stdout",
     "output_type": "stream",
     "text": [
      "You didnt get enough marks\n"
     ]
    }
   ],
   "source": [
    "try:\n",
    "    marks = int(input('Enter your Marks:'))\n",
    "\n",
    "    if marks < 36:\n",
    "        raise MarksNotEnoughException('You didnt get enough marks')\n",
    "except MarksNotEnoughException as err:\n",
    "    print(err.message)\n",
    "else:\n",
    "    print('You Passed in examination')"
   ]
  },
  {
   "cell_type": "code",
   "execution_count": null,
   "id": "0e467c21-a6c1-4567-b6d4-19fae4012ef0",
   "metadata": {},
   "outputs": [],
   "source": []
  }
 ],
 "metadata": {
  "kernelspec": {
   "display_name": "Python [conda env:base] *",
   "language": "python",
   "name": "conda-base-py"
  },
  "language_info": {
   "codemirror_mode": {
    "name": "ipython",
    "version": 3
   },
   "file_extension": ".py",
   "mimetype": "text/x-python",
   "name": "python",
   "nbconvert_exporter": "python",
   "pygments_lexer": "ipython3",
   "version": "3.12.7"
  }
 },
 "nbformat": 4,
 "nbformat_minor": 5
}
