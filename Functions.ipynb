{
 "cells": [
  {
   "cell_type": "markdown",
   "id": "dcf77eea-df3f-4254-a235-d815cc8631e0",
   "metadata": {},
   "source": [
    "# Args and kwargs"
   ]
  },
  {
   "cell_type": "markdown",
   "id": "19e0fba4-84b3-4edb-997d-110e116f4851",
   "metadata": {},
   "source": [
    "## Args"
   ]
  },
  {
   "cell_type": "code",
   "execution_count": 2,
   "id": "69c3b577-6899-4996-af1c-b2d4574de92c",
   "metadata": {},
   "outputs": [],
   "source": [
    "def game_playeres(*info):\n",
    "    for player in info:\n",
    "        print('player is {}'.format(player))"
   ]
  },
  {
   "cell_type": "markdown",
   "id": "d2641257-ba64-4284-995e-54f575268f78",
   "metadata": {},
   "source": [
    "</select>"
   ]
  },
  {
   "cell_type": "code",
   "execution_count": 4,
   "id": "759f41d5-9214-47e6-8f28-9539b651519a",
   "metadata": {},
   "outputs": [
    {
     "name": "stdout",
     "output_type": "stream",
     "text": [
      "player is shreyank\n",
      "player is varsha\n"
     ]
    }
   ],
   "source": [
    "game_playeres('shreyank','varsha')"
   ]
  },
  {
   "cell_type": "markdown",
   "id": "a99c6793-4e9b-417e-8402-da7b65c6ffde",
   "metadata": {},
   "source": [
    "## kwargs"
   ]
  },
  {
   "cell_type": "code",
   "execution_count": 12,
   "id": "1b8f5644-d8c2-4fc8-a584-842af9a2d5cb",
   "metadata": {},
   "outputs": [],
   "source": [
    "def personal_info(**info):\n",
    "    for key,value in info.items():\n",
    "        print('The key {} and values {}'.format(key,value))"
   ]
  },
  {
   "cell_type": "code",
   "execution_count": 14,
   "id": "ed44ecba-5019-4faa-bff0-bcf2db3ea3ff",
   "metadata": {},
   "outputs": [
    {
     "name": "stdout",
     "output_type": "stream",
     "text": [
      "The key name and values shreyank\n",
      "The key age and values 32\n",
      "The key address and values xyz road\n"
     ]
    }
   ],
   "source": [
    "personal_info(name='shreyank',age=32,address='xyz road')"
   ]
  },
  {
   "cell_type": "code",
   "execution_count": null,
   "id": "9cf4f608-b565-42ce-93fa-c438a0eacdba",
   "metadata": {},
   "outputs": [],
   "source": []
  }
 ],
 "metadata": {
  "kernelspec": {
   "display_name": "Python [conda env:base] *",
   "language": "python",
   "name": "conda-base-py"
  },
  "language_info": {
   "codemirror_mode": {
    "name": "ipython",
    "version": 3
   },
   "file_extension": ".py",
   "mimetype": "text/x-python",
   "name": "python",
   "nbconvert_exporter": "python",
   "pygments_lexer": "ipython3",
   "version": "3.12.7"
  }
 },
 "nbformat": 4,
 "nbformat_minor": 5
}
