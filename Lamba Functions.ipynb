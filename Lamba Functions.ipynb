{
 "cells": [
  {
   "cell_type": "code",
   "execution_count": 1,
   "id": "1a115240-795a-4b82-b1a0-db7218e86b45",
   "metadata": {},
   "outputs": [],
   "source": [
    "double = lambda num: num * 2"
   ]
  },
  {
   "cell_type": "code",
   "execution_count": 3,
   "id": "ad9108d9-f483-4fc7-8ffe-1f1675691a08",
   "metadata": {},
   "outputs": [
    {
     "data": {
      "text/plain": [
       "10"
      ]
     },
     "execution_count": 3,
     "metadata": {},
     "output_type": "execute_result"
    }
   ],
   "source": [
    "double(5)"
   ]
  },
  {
   "cell_type": "code",
   "execution_count": 5,
   "id": "84fdb3c5-7c2b-4405-b53d-d2a161024f24",
   "metadata": {},
   "outputs": [],
   "source": [
    "double_new = lambda a,b: a* b"
   ]
  },
  {
   "cell_type": "code",
   "execution_count": 7,
   "id": "652b11a9-1492-412d-a373-32c3518a76e8",
   "metadata": {},
   "outputs": [
    {
     "data": {
      "text/plain": [
       "4"
      ]
     },
     "execution_count": 7,
     "metadata": {},
     "output_type": "execute_result"
    }
   ],
   "source": [
    "double_new(2,2)"
   ]
  },
  {
   "cell_type": "markdown",
   "id": "ba87819b-5a7a-45bd-9477-dc37ffa73cc6",
   "metadata": {},
   "source": [
    "# Filter()"
   ]
  },
  {
   "cell_type": "code",
   "execution_count": 10,
   "id": "57e7a5e3-16a5-468d-bef6-a2c9c1a36ded",
   "metadata": {},
   "outputs": [],
   "source": [
    "num_list = [1,2,3,4,5,6,7,8,9,10]"
   ]
  },
  {
   "cell_type": "code",
   "execution_count": 14,
   "id": "2cc11edc-aa03-4ad4-a76c-c80ffaf3b914",
   "metadata": {},
   "outputs": [
    {
     "data": {
      "text/plain": [
       "[2, 4, 6, 8, 10]"
      ]
     },
     "execution_count": 14,
     "metadata": {},
     "output_type": "execute_result"
    }
   ],
   "source": [
    "list(filter(lambda num: (num % 2 == 0), num_list))"
   ]
  },
  {
   "cell_type": "markdown",
   "id": "19ff330d-6270-494c-8a3b-481905becb47",
   "metadata": {},
   "source": [
    "# Map()"
   ]
  },
  {
   "cell_type": "code",
   "execution_count": 19,
   "id": "d2b4894f-6d32-49c2-bbcf-f2845e59bfa5",
   "metadata": {},
   "outputs": [],
   "source": [
    "odd_list = [1,3,5,7,9,11]"
   ]
  },
  {
   "cell_type": "code",
   "execution_count": null,
   "id": "9b165be4-e317-4a18-8676-718aa97b1807",
   "metadata": {},
   "outputs": [],
   "source": [
    "double = lambda num: num * 2"
   ]
  },
  {
   "cell_type": "code",
   "execution_count": 25,
   "id": "a85b5e8f-e691-4eec-af8f-e2b0770626f1",
   "metadata": {},
   "outputs": [
    {
     "data": {
      "text/plain": [
       "[2, 6, 10, 14, 18, 22]"
      ]
     },
     "execution_count": 25,
     "metadata": {},
     "output_type": "execute_result"
    }
   ],
   "source": [
    "list(map(double, odd_list))"
   ]
  },
  {
   "cell_type": "code",
   "execution_count": null,
   "id": "246db849-f1a1-44d0-a3ac-cda5b831fda6",
   "metadata": {},
   "outputs": [],
   "source": []
  }
 ],
 "metadata": {
  "kernelspec": {
   "display_name": "Python [conda env:base] *",
   "language": "python",
   "name": "conda-base-py"
  },
  "language_info": {
   "codemirror_mode": {
    "name": "ipython",
    "version": 3
   },
   "file_extension": ".py",
   "mimetype": "text/x-python",
   "name": "python",
   "nbconvert_exporter": "python",
   "pygments_lexer": "ipython3",
   "version": "3.12.7"
  }
 },
 "nbformat": 4,
 "nbformat_minor": 5
}
