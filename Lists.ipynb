{
 "cells": [
  {
   "cell_type": "code",
   "execution_count": 9,
   "id": "004189f1-4e02-4a5d-83bb-5de10e4374a7",
   "metadata": {},
   "outputs": [],
   "source": [
    "position = [1,2,3,4,5,[6,7,8,9]]"
   ]
  },
  {
   "cell_type": "code",
   "execution_count": 11,
   "id": "a25c76f4-2f47-4335-80d1-f53a98721b46",
   "metadata": {},
   "outputs": [
    {
     "data": {
      "text/plain": [
       "[6, 7, 8, 9]"
      ]
     },
     "execution_count": 11,
     "metadata": {},
     "output_type": "execute_result"
    }
   ],
   "source": [
    "position[5]"
   ]
  },
  {
   "cell_type": "code",
   "execution_count": 13,
   "id": "05217e49-e134-4089-9f22-964baafec215",
   "metadata": {},
   "outputs": [
    {
     "data": {
      "text/plain": [
       "[6, 7, 8, 9]"
      ]
     },
     "execution_count": 13,
     "metadata": {},
     "output_type": "execute_result"
    }
   ],
   "source": [
    "position[-1]"
   ]
  },
  {
   "cell_type": "code",
   "execution_count": 15,
   "id": "71fa6284-68f9-4b6f-b5d5-7a0debe9c43a",
   "metadata": {},
   "outputs": [
    {
     "data": {
      "text/plain": [
       "8"
      ]
     },
     "execution_count": 15,
     "metadata": {},
     "output_type": "execute_result"
    }
   ],
   "source": [
    "position[-1][-2]"
   ]
  },
  {
   "cell_type": "code",
   "execution_count": 17,
   "id": "4cecdd60-2468-43ce-8241-36ed15268aed",
   "metadata": {},
   "outputs": [],
   "source": [
    "# List Slicing"
   ]
  },
  {
   "cell_type": "code",
   "execution_count": 19,
   "id": "8045d5a0-f9a9-4e84-b977-3957646f92ef",
   "metadata": {},
   "outputs": [],
   "source": [
    "shoping_list = ['bread','milk','sugar','salt','fish',\n",
    "               'chocolate','fruits','sweets','apples','orange']"
   ]
  },
  {
   "cell_type": "code",
   "execution_count": 25,
   "id": "5736823f-05ce-471e-9473-21cb44c11311",
   "metadata": {},
   "outputs": [
    {
     "data": {
      "text/plain": [
       "['bread', 'milk', 'sugar', 'salt', 'fish']"
      ]
     },
     "execution_count": 25,
     "metadata": {},
     "output_type": "execute_result"
    }
   ],
   "source": [
    "varsha_shopping_list= shoping_list[0:5]\n",
    "varsha_shopping_list"
   ]
  },
  {
   "cell_type": "code",
   "execution_count": 27,
   "id": "0d1f23f5-4bdf-4b86-ab1e-54d068e88166",
   "metadata": {},
   "outputs": [
    {
     "data": {
      "text/plain": [
       "['chocolate', 'fruits', 'sweets', 'apples', 'orange']"
      ]
     },
     "execution_count": 27,
     "metadata": {},
     "output_type": "execute_result"
    }
   ],
   "source": [
    "shreyank_shopping_list = shoping_list[5:10]\n",
    "shreyank_shopping_list"
   ]
  },
  {
   "cell_type": "code",
   "execution_count": 29,
   "id": "e9ca65f2-69c0-4d1e-b8a5-cf4c2fbcac78",
   "metadata": {},
   "outputs": [],
   "source": [
    "# Sorting"
   ]
  },
  {
   "cell_type": "code",
   "execution_count": 32,
   "id": "369e65ee-9e09-420c-89ab-9da4278c85ea",
   "metadata": {},
   "outputs": [],
   "source": [
    "shoping_list.sort(reverse= True)"
   ]
  },
  {
   "cell_type": "code",
   "execution_count": 34,
   "id": "eab3dca9-d7e6-4c1a-a771-66e2baf01583",
   "metadata": {},
   "outputs": [
    {
     "data": {
      "text/plain": [
       "['sweets',\n",
       " 'sugar',\n",
       " 'salt',\n",
       " 'orange',\n",
       " 'milk',\n",
       " 'fruits',\n",
       " 'fish',\n",
       " 'chocolate',\n",
       " 'bread',\n",
       " 'apples']"
      ]
     },
     "execution_count": 34,
     "metadata": {},
     "output_type": "execute_result"
    }
   ],
   "source": [
    "shoping_list"
   ]
  },
  {
   "cell_type": "code",
   "execution_count": 36,
   "id": "16d3f946-6097-4441-8ecf-e6e6a7779e24",
   "metadata": {},
   "outputs": [
    {
     "data": {
      "text/plain": [
       "['apples',\n",
       " 'bread',\n",
       " 'chocolate',\n",
       " 'fish',\n",
       " 'fruits',\n",
       " 'milk',\n",
       " 'orange',\n",
       " 'salt',\n",
       " 'sugar',\n",
       " 'sweets']"
      ]
     },
     "execution_count": 36,
     "metadata": {},
     "output_type": "execute_result"
    }
   ],
   "source": [
    "new_shopping_list = sorted(shoping_list, reverse= False)\n",
    "new_shopping_list"
   ]
  },
  {
   "cell_type": "markdown",
   "id": "ad33e321-9431-4a3a-93a0-3827d07c736d",
   "metadata": {},
   "source": [
    "# Changing elements in list"
   ]
  },
  {
   "cell_type": "code",
   "execution_count": 48,
   "id": "da29492b-3cfd-4879-8a91-8e7da333ae85",
   "metadata": {},
   "outputs": [],
   "source": [
    "shoping_list.sort()"
   ]
  },
  {
   "cell_type": "code",
   "execution_count": 50,
   "id": "a567435b-5b55-4749-bfda-e78c5eea8702",
   "metadata": {},
   "outputs": [
    {
     "data": {
      "text/plain": [
       "['apples',\n",
       " 'bread',\n",
       " 'chocolate',\n",
       " 'fish',\n",
       " 'fruits',\n",
       " 'milk',\n",
       " 'orange',\n",
       " 'salt',\n",
       " 'sugar',\n",
       " 'sweets']"
      ]
     },
     "execution_count": 50,
     "metadata": {},
     "output_type": "execute_result"
    }
   ],
   "source": [
    "shoping_list"
   ]
  },
  {
   "cell_type": "code",
   "execution_count": 52,
   "id": "7731b7fb-8adb-45bb-8957-49501fecb821",
   "metadata": {},
   "outputs": [],
   "source": [
    "shoping_list[0] = 'Bananas'"
   ]
  },
  {
   "cell_type": "code",
   "execution_count": 54,
   "id": "5f6bfd2b-6cc8-4ef7-990a-37d3ca6f2af5",
   "metadata": {},
   "outputs": [
    {
     "data": {
      "text/plain": [
       "['Bananas',\n",
       " 'bread',\n",
       " 'chocolate',\n",
       " 'fish',\n",
       " 'fruits',\n",
       " 'milk',\n",
       " 'orange',\n",
       " 'salt',\n",
       " 'sugar',\n",
       " 'sweets']"
      ]
     },
     "execution_count": 54,
     "metadata": {},
     "output_type": "execute_result"
    }
   ],
   "source": [
    "shoping_list"
   ]
  },
  {
   "cell_type": "markdown",
   "id": "e0de84f9-4558-4df9-b4ed-84eb2df0576d",
   "metadata": {},
   "source": [
    "# Changing multiple values"
   ]
  },
  {
   "cell_type": "code",
   "execution_count": 62,
   "id": "1fb2944c-1dc4-4403-ac99-c9fe2d462edd",
   "metadata": {},
   "outputs": [],
   "source": [
    "shoping_list[0:3] = ['z','y','x']"
   ]
  },
  {
   "cell_type": "code",
   "execution_count": 64,
   "id": "647032f1-6405-4ed6-83e8-ed1ecd7497df",
   "metadata": {},
   "outputs": [
    {
     "data": {
      "text/plain": [
       "['z',\n",
       " 'y',\n",
       " 'x',\n",
       " 'fish',\n",
       " 'fruits',\n",
       " 'milk',\n",
       " 'orange',\n",
       " 'salt',\n",
       " 'sugar',\n",
       " 'z',\n",
       " 'y',\n",
       " 'x',\n",
       " 'sweets']"
      ]
     },
     "execution_count": 64,
     "metadata": {},
     "output_type": "execute_result"
    }
   ],
   "source": [
    "shoping_list"
   ]
  },
  {
   "cell_type": "markdown",
   "id": "b23eedfd-99cc-4eb6-9e6a-2621cbf89ae8",
   "metadata": {},
   "source": [
    "# Adding new elemenst to List"
   ]
  },
  {
   "cell_type": "code",
   "execution_count": 68,
   "id": "4f684889-9123-48ff-9851-d93cc4615f0a",
   "metadata": {},
   "outputs": [],
   "source": [
    "shoping_list_latest = ['cheese','pen']\n"
   ]
  },
  {
   "cell_type": "code",
   "execution_count": 70,
   "id": "dbdb2558-18be-46ff-9255-01b311f90270",
   "metadata": {},
   "outputs": [
    {
     "data": {
      "text/plain": [
       "['z',\n",
       " 'y',\n",
       " 'x',\n",
       " 'fish',\n",
       " 'fruits',\n",
       " 'milk',\n",
       " 'orange',\n",
       " 'salt',\n",
       " 'sugar',\n",
       " 'z',\n",
       " 'y',\n",
       " 'x',\n",
       " 'sweets',\n",
       " 'cheese',\n",
       " 'pen']"
      ]
     },
     "execution_count": 70,
     "metadata": {},
     "output_type": "execute_result"
    }
   ],
   "source": [
    "shoping_list + shoping_list_latest"
   ]
  },
  {
   "cell_type": "code",
   "execution_count": 72,
   "id": "847d74e9-7971-4092-a61a-bf62d0da4493",
   "metadata": {},
   "outputs": [],
   "source": [
    "shoping_list += shoping_list_latest"
   ]
  },
  {
   "cell_type": "code",
   "execution_count": 74,
   "id": "7ad67ee0-7ea6-4de9-a8ba-0f62f0bd2483",
   "metadata": {},
   "outputs": [
    {
     "data": {
      "text/plain": [
       "['z',\n",
       " 'y',\n",
       " 'x',\n",
       " 'fish',\n",
       " 'fruits',\n",
       " 'milk',\n",
       " 'orange',\n",
       " 'salt',\n",
       " 'sugar',\n",
       " 'z',\n",
       " 'y',\n",
       " 'x',\n",
       " 'sweets',\n",
       " 'cheese',\n",
       " 'pen']"
      ]
     },
     "execution_count": 74,
     "metadata": {},
     "output_type": "execute_result"
    }
   ],
   "source": [
    "shoping_list"
   ]
  },
  {
   "cell_type": "markdown",
   "id": "434616da-81e7-4a31-a35a-e37dc94fd034",
   "metadata": {},
   "source": [
    "# Append "
   ]
  },
  {
   "cell_type": "code",
   "execution_count": 78,
   "id": "9c022d4c-af8a-4933-9ea3-a99147b0c988",
   "metadata": {},
   "outputs": [],
   "source": [
    "shoping_list.append('egg')"
   ]
  },
  {
   "cell_type": "code",
   "execution_count": 80,
   "id": "646215cd-248a-4e3f-8c17-7feee656e205",
   "metadata": {},
   "outputs": [
    {
     "data": {
      "text/plain": [
       "['z',\n",
       " 'y',\n",
       " 'x',\n",
       " 'fish',\n",
       " 'fruits',\n",
       " 'milk',\n",
       " 'orange',\n",
       " 'salt',\n",
       " 'sugar',\n",
       " 'z',\n",
       " 'y',\n",
       " 'x',\n",
       " 'sweets',\n",
       " 'cheese',\n",
       " 'pen',\n",
       " 'egg']"
      ]
     },
     "execution_count": 80,
     "metadata": {},
     "output_type": "execute_result"
    }
   ],
   "source": [
    "shoping_list"
   ]
  },
  {
   "cell_type": "code",
   "execution_count": 82,
   "id": "f23862df-71c4-400f-9992-1d4782650899",
   "metadata": {},
   "outputs": [],
   "source": [
    "list2 = ['p','q']"
   ]
  },
  {
   "cell_type": "code",
   "execution_count": 84,
   "id": "a8b5cf6f-749f-4100-a98e-d6d1c3932db6",
   "metadata": {},
   "outputs": [],
   "source": [
    "shoping_list.append(list2)"
   ]
  },
  {
   "cell_type": "code",
   "execution_count": 86,
   "id": "121c3394-f5fb-4601-9f59-be11768aa9ce",
   "metadata": {},
   "outputs": [
    {
     "data": {
      "text/plain": [
       "['z',\n",
       " 'y',\n",
       " 'x',\n",
       " 'fish',\n",
       " 'fruits',\n",
       " 'milk',\n",
       " 'orange',\n",
       " 'salt',\n",
       " 'sugar',\n",
       " 'z',\n",
       " 'y',\n",
       " 'x',\n",
       " 'sweets',\n",
       " 'cheese',\n",
       " 'pen',\n",
       " 'egg',\n",
       " ['p', 'q']]"
      ]
     },
     "execution_count": 86,
     "metadata": {},
     "output_type": "execute_result"
    }
   ],
   "source": [
    "shoping_list"
   ]
  },
  {
   "cell_type": "code",
   "execution_count": 88,
   "id": "7fb9b9d6-8d63-4134-b693-d809c8a2b07b",
   "metadata": {},
   "outputs": [
    {
     "data": {
      "text/plain": [
       "'q'"
      ]
     },
     "execution_count": 88,
     "metadata": {},
     "output_type": "execute_result"
    }
   ],
   "source": [
    "shoping_list[-1][-1]"
   ]
  },
  {
   "cell_type": "markdown",
   "id": "d7c331cc-b7f8-497f-9ae4-1a988344d81f",
   "metadata": {},
   "source": [
    "# Insert"
   ]
  },
  {
   "cell_type": "code",
   "execution_count": 92,
   "id": "e43d2e45-8992-4bf5-8c05-7eb3b8c01923",
   "metadata": {},
   "outputs": [
    {
     "data": {
      "text/plain": [
       "['z',\n",
       " 'ice cream',\n",
       " 'y',\n",
       " 'x',\n",
       " 'fish',\n",
       " 'fruits',\n",
       " 'milk',\n",
       " 'orange',\n",
       " 'salt',\n",
       " 'sugar',\n",
       " 'z',\n",
       " 'y',\n",
       " 'x',\n",
       " 'sweets',\n",
       " 'cheese',\n",
       " 'pen',\n",
       " 'egg',\n",
       " ['p', 'q']]"
      ]
     },
     "execution_count": 92,
     "metadata": {},
     "output_type": "execute_result"
    }
   ],
   "source": [
    "shoping_list.insert(1,'ice cream')\n",
    "shoping_list"
   ]
  },
  {
   "cell_type": "markdown",
   "id": "bfea3603-0128-4bf4-b0e3-5709e6c73245",
   "metadata": {},
   "source": [
    "# Remove"
   ]
  },
  {
   "cell_type": "code",
   "execution_count": 96,
   "id": "d2d49826-ff9b-4aba-895f-3bd18fcfd06c",
   "metadata": {},
   "outputs": [],
   "source": [
    "new_list = ['a','b','c','x','y','z']"
   ]
  },
  {
   "cell_type": "code",
   "execution_count": 98,
   "id": "3e743435-75f2-44f4-9506-b2741bd4624b",
   "metadata": {},
   "outputs": [
    {
     "data": {
      "text/plain": [
       "['a', 'b', 'c', 'x', 'y']"
      ]
     },
     "execution_count": 98,
     "metadata": {},
     "output_type": "execute_result"
    }
   ],
   "source": [
    "new_list.remove('z')\n",
    "new_list"
   ]
  },
  {
   "cell_type": "markdown",
   "id": "6a58ee8f-07b8-4150-8a62-5579b03c6102",
   "metadata": {},
   "source": [
    "# Pop"
   ]
  },
  {
   "cell_type": "code",
   "execution_count": 102,
   "id": "d1dabec3-ed19-46e1-8b38-bdddaaf1d0e3",
   "metadata": {},
   "outputs": [
    {
     "data": {
      "text/plain": [
       "'y'"
      ]
     },
     "execution_count": 102,
     "metadata": {},
     "output_type": "execute_result"
    }
   ],
   "source": [
    "removed_element = new_list.pop()   # by default removed last element and stores removed element in variable\n",
    "removed_element"
   ]
  },
  {
   "cell_type": "code",
   "execution_count": 104,
   "id": "30f297eb-1987-4079-9e46-35765cfc41b0",
   "metadata": {},
   "outputs": [
    {
     "data": {
      "text/plain": [
       "'b'"
      ]
     },
     "execution_count": 104,
     "metadata": {},
     "output_type": "execute_result"
    }
   ],
   "source": [
    "new_list.pop(1)"
   ]
  },
  {
   "cell_type": "code",
   "execution_count": 106,
   "id": "d11bb872-4ca4-4636-a696-9675f2f64be0",
   "metadata": {},
   "outputs": [],
   "source": [
    "# Length"
   ]
  },
  {
   "cell_type": "code",
   "execution_count": 108,
   "id": "93e803f8-ed10-447c-ae7d-d1715debcae3",
   "metadata": {},
   "outputs": [
    {
     "data": {
      "text/plain": [
       "18"
      ]
     },
     "execution_count": 108,
     "metadata": {},
     "output_type": "execute_result"
    }
   ],
   "source": [
    "len(shoping_list)"
   ]
  },
  {
   "cell_type": "markdown",
   "id": "8958c5b5-5bf2-480e-bfe0-fbdbe8fff871",
   "metadata": {},
   "source": [
    "# Range"
   ]
  },
  {
   "cell_type": "code",
   "execution_count": 112,
   "id": "a1d2ef12-c32b-4d9e-a117-95fc82c66bf6",
   "metadata": {},
   "outputs": [
    {
     "data": {
      "text/plain": [
       "range(0, 10)"
      ]
     },
     "execution_count": 112,
     "metadata": {},
     "output_type": "execute_result"
    }
   ],
   "source": [
    "range(10)"
   ]
  },
  {
   "cell_type": "code",
   "execution_count": 114,
   "id": "381264fd-572f-4479-9d46-6b4c56ca2755",
   "metadata": {},
   "outputs": [
    {
     "data": {
      "text/plain": [
       "[0, 1, 2, 3, 4, 5, 6, 7, 8, 9]"
      ]
     },
     "execution_count": 114,
     "metadata": {},
     "output_type": "execute_result"
    }
   ],
   "source": [
    "list(range(10))"
   ]
  },
  {
   "cell_type": "code",
   "execution_count": 116,
   "id": "ac65dcb6-55a9-4c9d-9941-5bdd57276cc1",
   "metadata": {},
   "outputs": [
    {
     "data": {
      "text/plain": [
       "[5, 6, 7, 8, 9, 10, 11, 12, 13, 14]"
      ]
     },
     "execution_count": 116,
     "metadata": {},
     "output_type": "execute_result"
    }
   ],
   "source": [
    "list(range(5,15))"
   ]
  },
  {
   "cell_type": "code",
   "execution_count": 120,
   "id": "ca138a59-3a37-4bec-a1db-bec0f9d4a308",
   "metadata": {},
   "outputs": [
    {
     "data": {
      "text/plain": [
       "[0, 10, 20, 30, 40, 50, 60, 70, 80, 90, 100]"
      ]
     },
     "execution_count": 120,
     "metadata": {},
     "output_type": "execute_result"
    }
   ],
   "source": [
    "list(range(0,101,10))"
   ]
  },
  {
   "cell_type": "markdown",
   "id": "3041d7dd-26e9-470f-920b-d9530220251b",
   "metadata": {},
   "source": [
    "# List Comprehension"
   ]
  },
  {
   "cell_type": "code",
   "execution_count": 135,
   "id": "8f9c2b00-a843-4638-b47c-99523fb55480",
   "metadata": {},
   "outputs": [
    {
     "data": {
      "text/plain": [
       "[0, 2, 4, 6, 8, 10, 12, 14, 16, 18, 20, 22, 24, 26, 28, 30]"
      ]
     },
     "execution_count": 135,
     "metadata": {},
     "output_type": "execute_result"
    }
   ],
   "source": [
    "evens = [(x * 2) for x in range(16)]\n",
    "evens"
   ]
  },
  {
   "cell_type": "code",
   "execution_count": 137,
   "id": "c5f7c763-e57a-4249-b164-ec7a588c5d04",
   "metadata": {},
   "outputs": [
    {
     "data": {
      "text/plain": [
       "[2, 4, 8, 10, 14, 16, 20, 22, 26, 28]"
      ]
     },
     "execution_count": 137,
     "metadata": {},
     "output_type": "execute_result"
    }
   ],
   "source": [
    "new_evens = [(x * 2) for x in range(16) if x*2 % 6 !=0]\n",
    "new_evens"
   ]
  },
  {
   "cell_type": "code",
   "execution_count": null,
   "id": "2564c0c4-8edc-4012-b24c-ecddd93598da",
   "metadata": {},
   "outputs": [],
   "source": []
  }
 ],
 "metadata": {
  "kernelspec": {
   "display_name": "Python [conda env:base] *",
   "language": "python",
   "name": "conda-base-py"
  },
  "language_info": {
   "codemirror_mode": {
    "name": "ipython",
    "version": 3
   },
   "file_extension": ".py",
   "mimetype": "text/x-python",
   "name": "python",
   "nbconvert_exporter": "python",
   "pygments_lexer": "ipython3",
   "version": "3.12.7"
  }
 },
 "nbformat": 4,
 "nbformat_minor": 5
}
