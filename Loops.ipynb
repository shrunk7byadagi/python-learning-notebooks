{
 "cells": [
  {
   "cell_type": "code",
   "execution_count": 1,
   "id": "cb86281d-c8b9-4a74-865f-2625018aca6d",
   "metadata": {},
   "outputs": [
    {
     "name": "stdout",
     "output_type": "stream",
     "text": [
      "55\n"
     ]
    }
   ],
   "source": [
    "total = 0\n",
    "for num in range(1,11):\n",
    "    total += num\n",
    "print(total)"
   ]
  },
  {
   "cell_type": "code",
   "execution_count": 3,
   "id": "6901cc98-784c-40d4-8951-e561124a0e8e",
   "metadata": {},
   "outputs": [
    {
     "name": "stdout",
     "output_type": "stream",
     "text": [
      "I Enjoy hokey\n",
      "I Enjoy cricket\n",
      "I Enjoy football\n"
     ]
    }
   ],
   "source": [
    "hobbies = ['hokey','cricket','football']\n",
    "for i in hobbies:\n",
    "    print(\"I Enjoy \"+ i)"
   ]
  },
  {
   "cell_type": "code",
   "execution_count": 7,
   "id": "920097e4-78e9-48c7-90c8-451433f2f523",
   "metadata": {},
   "outputs": [
    {
     "name": "stdout",
     "output_type": "stream",
     "text": [
      "hokey\n",
      "cricket\n",
      "football\n"
     ]
    }
   ],
   "source": [
    "for j in range(len(hobbies)):\n",
    "    print(hobbies[j])"
   ]
  },
  {
   "cell_type": "code",
   "execution_count": 9,
   "id": "78068c3d-3630-4401-890d-8c65907cb088",
   "metadata": {},
   "outputs": [],
   "source": [
    "sentence = 'I Love python'"
   ]
  },
  {
   "cell_type": "code",
   "execution_count": 27,
   "id": "2b18a668-aa7f-4363-88d5-3b421e2519a1",
   "metadata": {},
   "outputs": [
    {
     "name": "stdout",
     "output_type": "stream",
     "text": [
      "2\n"
     ]
    }
   ],
   "source": [
    "count = 0\n",
    "for n in sentence:\n",
    "    if n == 'o':\n",
    "        count += +1\n",
    "print(count)    "
   ]
  },
  {
   "cell_type": "markdown",
   "id": "5aa8a398-b4fc-447d-973f-c6f566a5eaa3",
   "metadata": {},
   "source": [
    "## FizzBuzz"
   ]
  },
  {
   "cell_type": "code",
   "execution_count": 20,
   "id": "b41931c6-a839-4e94-8ad0-18a716458ad5",
   "metadata": {},
   "outputs": [
    {
     "name": "stdout",
     "output_type": "stream",
     "text": [
      "1\n",
      "2\n",
      "Fizz\n",
      "4\n",
      "Buzz\n",
      "Fizz\n",
      "7\n",
      "8\n",
      "Fizz\n",
      "Buzz\n",
      "11\n",
      "Fizz\n",
      "13\n",
      "14\n",
      "FizzBuzz\n"
     ]
    }
   ],
   "source": [
    "start = 1\n",
    "stop = 16\n",
    "for i in range(start,stop):\n",
    "    if i%3 == 0 and i%5 == 0:\n",
    "        print('FizzBuzz')\n",
    "    elif i%3 == 0:\n",
    "        print('Fizz')\n",
    "    elif i%5 == 0:\n",
    "        print('Buzz')\n",
    "    else:\n",
    "        print(i)"
   ]
  },
  {
   "cell_type": "markdown",
   "id": "b74bb99f-4de8-410c-8a57-621d7f78d0d5",
   "metadata": {},
   "source": [
    "## FizzBuzz While loop"
   ]
  },
  {
   "cell_type": "code",
   "execution_count": 23,
   "id": "f56756ec-4305-4e58-8afa-526c4af91e55",
   "metadata": {},
   "outputs": [
    {
     "name": "stdout",
     "output_type": "stream",
     "text": [
      "1\n",
      "2\n",
      "Fizz\n",
      "4\n",
      "Buzz\n",
      "Fizz\n",
      "7\n",
      "8\n",
      "Fizz\n",
      "Buzz\n",
      "11\n",
      "Fizz\n",
      "13\n",
      "14\n",
      "FizzBuzz\n"
     ]
    }
   ],
   "source": [
    "start_new = 1\n",
    "stop_new = 16\n",
    "while start_new < stop_new:\n",
    "    if start_new % 3 == 0 and start_new % 5 ==0:\n",
    "        print('FizzBuzz')\n",
    "    elif start_new % 3 == 0:\n",
    "        print('Fizz')\n",
    "    elif start_new % 5 == 0:\n",
    "        print('Buzz')\n",
    "    else:\n",
    "        print(start_new)\n",
    "    start_new += 1    "
   ]
  },
  {
   "cell_type": "markdown",
   "id": "8cbc17e6-597d-4ea4-b870-67c33da7f044",
   "metadata": {},
   "source": [
    "## Nested Loop"
   ]
  },
  {
   "cell_type": "code",
   "execution_count": 38,
   "id": "f7c1b6d9-449c-4353-a635-035a2eb81095",
   "metadata": {},
   "outputs": [
    {
     "name": "stdout",
     "output_type": "stream",
     "text": [
      "Inside outer loop 1\n",
      "Inside inner loop 1 and product of 1 * 1 = 1\n",
      "Inside inner loop 2 and product of 1 * 2 = 2\n",
      "Inside inner loop 3 and product of 1 * 3 = 3\n",
      "Inside inner loop 4 and product of 1 * 4 = 4\n",
      "---\n",
      "Inside outer loop 2\n",
      "Inside inner loop 1 and product of 2 * 1 = 2\n",
      "Inside inner loop 2 and product of 2 * 2 = 4\n",
      "Inside inner loop 3 and product of 2 * 3 = 6\n",
      "Inside inner loop 4 and product of 2 * 4 = 8\n",
      "---\n",
      "Inside outer loop 3\n",
      "Inside inner loop 1 and product of 3 * 1 = 3\n",
      "Inside inner loop 2 and product of 3 * 2 = 6\n",
      "Inside inner loop 3 and product of 3 * 3 = 9\n",
      "Inside inner loop 4 and product of 3 * 4 = 12\n",
      "---\n"
     ]
    }
   ],
   "source": [
    "a = 1\n",
    "b = 1\n",
    "while a <= 3:\n",
    "    print('Inside outer loop {}'.format(a))\n",
    "    while b < 5:\n",
    "        c = a * b\n",
    "        print('Inside inner loop {} and product of {} * {} = {}'.format(b,a,b,c))\n",
    "        b += 1\n",
    "    a +=1\n",
    "    b = 1\n",
    "    print('---')"
   ]
  },
  {
   "cell_type": "code",
   "execution_count": null,
   "id": "22c50f2b-bb67-41f0-bf64-eac7b386d11f",
   "metadata": {},
   "outputs": [],
   "source": []
  }
 ],
 "metadata": {
  "kernelspec": {
   "display_name": "Python [conda env:base] *",
   "language": "python",
   "name": "conda-base-py"
  },
  "language_info": {
   "codemirror_mode": {
    "name": "ipython",
    "version": 3
   },
   "file_extension": ".py",
   "mimetype": "text/x-python",
   "name": "python",
   "nbconvert_exporter": "python",
   "pygments_lexer": "ipython3",
   "version": "3.12.7"
  }
 },
 "nbformat": 4,
 "nbformat_minor": 5
}
