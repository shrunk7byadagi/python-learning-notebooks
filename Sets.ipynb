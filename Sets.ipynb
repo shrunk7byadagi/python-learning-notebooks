{
 "cells": [
  {
   "cell_type": "code",
   "execution_count": 1,
   "id": "02d07c43-d148-4a6b-bab6-3da680789cdf",
   "metadata": {},
   "outputs": [],
   "source": [
    "my_set = {1,2,3}"
   ]
  },
  {
   "cell_type": "code",
   "execution_count": 3,
   "id": "584c621c-d71e-4d51-9964-a50167a5a62b",
   "metadata": {},
   "outputs": [
    {
     "data": {
      "text/plain": [
       "{1, 2, 3}"
      ]
     },
     "execution_count": 3,
     "metadata": {},
     "output_type": "execute_result"
    }
   ],
   "source": [
    "my_set"
   ]
  },
  {
   "cell_type": "code",
   "execution_count": 5,
   "id": "22f44c20-e3cd-49e4-85c0-a1bf1b94e52f",
   "metadata": {},
   "outputs": [],
   "source": [
    "# Empty Set"
   ]
  },
  {
   "cell_type": "code",
   "execution_count": 7,
   "id": "88903666-e851-48d1-995c-59568eae46d9",
   "metadata": {},
   "outputs": [],
   "source": [
    "my_set_1 = set()"
   ]
  },
  {
   "cell_type": "code",
   "execution_count": 9,
   "id": "b232d48b-777a-44d6-a7b7-e800281aeda1",
   "metadata": {},
   "outputs": [
    {
     "data": {
      "text/plain": [
       "set"
      ]
     },
     "execution_count": 9,
     "metadata": {},
     "output_type": "execute_result"
    }
   ],
   "source": [
    "type(my_set_1)"
   ]
  },
  {
   "cell_type": "code",
   "execution_count": 11,
   "id": "46ff7b65-e11e-4758-a3de-8a1aabe07993",
   "metadata": {},
   "outputs": [],
   "source": [
    "# Update"
   ]
  },
  {
   "cell_type": "code",
   "execution_count": 13,
   "id": "543bfc6f-fb01-47a0-a348-1438198ca046",
   "metadata": {},
   "outputs": [],
   "source": [
    "my_set.update([4,5,6])"
   ]
  },
  {
   "cell_type": "code",
   "execution_count": 15,
   "id": "c436891e-cb5b-4969-88fb-da9608fb9050",
   "metadata": {},
   "outputs": [
    {
     "data": {
      "text/plain": [
       "{1, 2, 3, 4, 5, 6}"
      ]
     },
     "execution_count": 15,
     "metadata": {},
     "output_type": "execute_result"
    }
   ],
   "source": [
    "my_set"
   ]
  },
  {
   "cell_type": "code",
   "execution_count": 19,
   "id": "2e0702e3-a04d-48ab-8715-8042e018006f",
   "metadata": {},
   "outputs": [
    {
     "data": {
      "text/plain": [
       "{1, 2, 3, 4, 5, 6, 7, 8, 9}"
      ]
     },
     "execution_count": 19,
     "metadata": {},
     "output_type": "execute_result"
    }
   ],
   "source": [
    "my_set.update([7,8],(2,3,9),[1,2])\n",
    "my_set"
   ]
  },
  {
   "cell_type": "code",
   "execution_count": 21,
   "id": "f976ddcc-216b-4df2-b522-5f5eae17c8b5",
   "metadata": {},
   "outputs": [],
   "source": [
    "# Union"
   ]
  },
  {
   "cell_type": "code",
   "execution_count": 23,
   "id": "5e0f80f4-096a-46e0-94e2-38cd5d5e9480",
   "metadata": {},
   "outputs": [],
   "source": [
    "a = {1,2,3,4,5}\n",
    "b = {4,5,6,7,8}"
   ]
  },
  {
   "cell_type": "code",
   "execution_count": 25,
   "id": "0ff31b7a-8c14-41c9-b1b8-4ce2e76f723c",
   "metadata": {},
   "outputs": [
    {
     "data": {
      "text/plain": [
       "{1, 2, 3, 4, 5, 6, 7, 8}"
      ]
     },
     "execution_count": 25,
     "metadata": {},
     "output_type": "execute_result"
    }
   ],
   "source": [
    "a | b"
   ]
  },
  {
   "cell_type": "code",
   "execution_count": 27,
   "id": "4e3db89f-b0c7-461d-b866-bc554968efb3",
   "metadata": {},
   "outputs": [
    {
     "data": {
      "text/plain": [
       "{1, 2, 3, 4, 5, 6, 7, 8}"
      ]
     },
     "execution_count": 27,
     "metadata": {},
     "output_type": "execute_result"
    }
   ],
   "source": [
    "a.union(b)"
   ]
  },
  {
   "cell_type": "code",
   "execution_count": 29,
   "id": "bb5059d9-5b7c-44b3-9247-920b54b5147e",
   "metadata": {},
   "outputs": [],
   "source": [
    "# Intersection"
   ]
  },
  {
   "cell_type": "code",
   "execution_count": 31,
   "id": "64ef4a73-6f0f-49e9-8ab2-c106c11c569e",
   "metadata": {},
   "outputs": [
    {
     "data": {
      "text/plain": [
       "{4, 5}"
      ]
     },
     "execution_count": 31,
     "metadata": {},
     "output_type": "execute_result"
    }
   ],
   "source": [
    "a & b"
   ]
  },
  {
   "cell_type": "code",
   "execution_count": 33,
   "id": "eaeea751-b447-48db-8adf-61da987d092f",
   "metadata": {},
   "outputs": [
    {
     "data": {
      "text/plain": [
       "{4, 5}"
      ]
     },
     "execution_count": 33,
     "metadata": {},
     "output_type": "execute_result"
    }
   ],
   "source": [
    "a.intersection(b)"
   ]
  },
  {
   "cell_type": "code",
   "execution_count": 35,
   "id": "5f39ed38-e861-4480-babe-984a5ec338b1",
   "metadata": {},
   "outputs": [
    {
     "data": {
      "text/plain": [
       "{4, 5}"
      ]
     },
     "execution_count": 35,
     "metadata": {},
     "output_type": "execute_result"
    }
   ],
   "source": [
    "b.intersection(a)"
   ]
  },
  {
   "cell_type": "code",
   "execution_count": 37,
   "id": "0aa41879-f94e-481c-a91f-a4bf1393aca9",
   "metadata": {},
   "outputs": [],
   "source": [
    "# Difference"
   ]
  },
  {
   "cell_type": "code",
   "execution_count": 39,
   "id": "9b059e06-a72d-4bab-9696-49c7a4a01690",
   "metadata": {},
   "outputs": [
    {
     "data": {
      "text/plain": [
       "{1, 2, 3}"
      ]
     },
     "execution_count": 39,
     "metadata": {},
     "output_type": "execute_result"
    }
   ],
   "source": [
    "a - b"
   ]
  },
  {
   "cell_type": "code",
   "execution_count": 41,
   "id": "37a3b697-a45e-4d1c-a22d-dfee3958ba84",
   "metadata": {},
   "outputs": [
    {
     "data": {
      "text/plain": [
       "{1, 2, 3}"
      ]
     },
     "execution_count": 41,
     "metadata": {},
     "output_type": "execute_result"
    }
   ],
   "source": [
    "a.difference(b)"
   ]
  },
  {
   "cell_type": "code",
   "execution_count": 43,
   "id": "26cb643c-3733-471c-b69f-faee7a5ee766",
   "metadata": {},
   "outputs": [
    {
     "data": {
      "text/plain": [
       "{6, 7, 8}"
      ]
     },
     "execution_count": 43,
     "metadata": {},
     "output_type": "execute_result"
    }
   ],
   "source": [
    "b.difference(a)"
   ]
  },
  {
   "cell_type": "code",
   "execution_count": 45,
   "id": "16422422-693a-4a80-9d2e-8af7f2b34b8a",
   "metadata": {},
   "outputs": [],
   "source": [
    "# Symmetric Difference"
   ]
  },
  {
   "cell_type": "code",
   "execution_count": null,
   "id": "e33183a5-9354-45ec-8441-bb17902b4e96",
   "metadata": {},
   "outputs": [],
   "source": []
  },
  {
   "cell_type": "code",
   "execution_count": 48,
   "id": "00a1b344-221a-442d-9d84-217f1259d586",
   "metadata": {},
   "outputs": [
    {
     "data": {
      "text/plain": [
       "{1, 2, 3, 6, 7, 8}"
      ]
     },
     "execution_count": 48,
     "metadata": {},
     "output_type": "execute_result"
    }
   ],
   "source": [
    "a ^ b"
   ]
  },
  {
   "cell_type": "code",
   "execution_count": 50,
   "id": "d4b1c19f-3148-4374-95b0-56725cfb8a99",
   "metadata": {},
   "outputs": [
    {
     "data": {
      "text/plain": [
       "{1, 2, 3, 6, 7, 8}"
      ]
     },
     "execution_count": 50,
     "metadata": {},
     "output_type": "execute_result"
    }
   ],
   "source": [
    "a.symmetric_difference(b)"
   ]
  },
  {
   "cell_type": "code",
   "execution_count": null,
   "id": "c0383b7e-7eac-496a-ae19-ebcdd5a1d69a",
   "metadata": {},
   "outputs": [],
   "source": []
  }
 ],
 "metadata": {
  "kernelspec": {
   "display_name": "Python [conda env:base] *",
   "language": "python",
   "name": "conda-base-py"
  },
  "language_info": {
   "codemirror_mode": {
    "name": "ipython",
    "version": 3
   },
   "file_extension": ".py",
   "mimetype": "text/x-python",
   "name": "python",
   "nbconvert_exporter": "python",
   "pygments_lexer": "ipython3",
   "version": "3.12.7"
  }
 },
 "nbformat": 4,
 "nbformat_minor": 5
}
