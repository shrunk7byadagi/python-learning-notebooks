{
 "cells": [
  {
   "cell_type": "code",
   "execution_count": 5,
   "id": "aa403a36-7bd2-42bb-9f06-b260c9e8ca1c",
   "metadata": {},
   "outputs": [
    {
     "data": {
      "text/plain": [
       "5"
      ]
     },
     "execution_count": 5,
     "metadata": {},
     "output_type": "execute_result"
    }
   ],
   "source": [
    "word = 'hello'\n",
    "len(word)"
   ]
  },
  {
   "cell_type": "code",
   "execution_count": 7,
   "id": "8e10fe49-fbe0-42d1-8299-a574d18bf870",
   "metadata": {},
   "outputs": [
    {
     "data": {
      "text/plain": [
       "'l'"
      ]
     },
     "execution_count": 7,
     "metadata": {},
     "output_type": "execute_result"
    }
   ],
   "source": [
    "word[2]"
   ]
  },
  {
   "cell_type": "code",
   "execution_count": 9,
   "id": "c665223f-8e24-47ef-b7ad-35e7762f0a71",
   "metadata": {},
   "outputs": [
    {
     "data": {
      "text/plain": [
       "'o'"
      ]
     },
     "execution_count": 9,
     "metadata": {},
     "output_type": "execute_result"
    }
   ],
   "source": [
    "word[-1]"
   ]
  },
  {
   "cell_type": "code",
   "execution_count": 11,
   "id": "97d5de36-4a90-4917-94be-16bc95aed4e6",
   "metadata": {},
   "outputs": [
    {
     "data": {
      "text/plain": [
       "'l'"
      ]
     },
     "execution_count": 11,
     "metadata": {},
     "output_type": "execute_result"
    }
   ],
   "source": [
    "word[-2]"
   ]
  },
  {
   "cell_type": "code",
   "execution_count": 13,
   "id": "ddcaea67-803b-4505-b1ab-c5ccdf839791",
   "metadata": {},
   "outputs": [],
   "source": [
    "# Slicing\n"
   ]
  },
  {
   "cell_type": "code",
   "execution_count": 15,
   "id": "48f54ecd-e977-4f35-82e9-5070cb614447",
   "metadata": {},
   "outputs": [],
   "source": [
    "word2 = \"Goodbye\""
   ]
  },
  {
   "cell_type": "code",
   "execution_count": 19,
   "id": "cd1f20af-c115-46b3-a3cf-ea3708175538",
   "metadata": {},
   "outputs": [
    {
     "data": {
      "text/plain": [
       "'Good'"
      ]
     },
     "execution_count": 19,
     "metadata": {},
     "output_type": "execute_result"
    }
   ],
   "source": [
    "word2[0:4]"
   ]
  },
  {
   "cell_type": "code",
   "execution_count": 21,
   "id": "c79928c0-3341-4ad4-b04b-58474b38b21b",
   "metadata": {},
   "outputs": [
    {
     "data": {
      "text/plain": [
       "'Good'"
      ]
     },
     "execution_count": 21,
     "metadata": {},
     "output_type": "execute_result"
    }
   ],
   "source": [
    "word2[:4]"
   ]
  },
  {
   "cell_type": "code",
   "execution_count": 25,
   "id": "6020ecfb-f29d-4716-abfd-7a99df2b27a7",
   "metadata": {},
   "outputs": [
    {
     "data": {
      "text/plain": [
       "'Good'"
      ]
     },
     "execution_count": 25,
     "metadata": {},
     "output_type": "execute_result"
    }
   ],
   "source": [
    "word2[:-3]"
   ]
  },
  {
   "cell_type": "code",
   "execution_count": 29,
   "id": "5b3becdd-511c-42d0-a9a8-75b231943bc6",
   "metadata": {},
   "outputs": [
    {
     "data": {
      "text/plain": [
       "'bye'"
      ]
     },
     "execution_count": 29,
     "metadata": {},
     "output_type": "execute_result"
    }
   ],
   "source": [
    "word2[-3:]"
   ]
  },
  {
   "cell_type": "code",
   "execution_count": 31,
   "id": "5dc079d5-f43c-4eaf-95f0-29d0ebf921ce",
   "metadata": {},
   "outputs": [
    {
     "data": {
      "text/plain": [
       "'Gob'"
      ]
     },
     "execution_count": 31,
     "metadata": {},
     "output_type": "execute_result"
    }
   ],
   "source": [
    "word2[0:6:2]"
   ]
  },
  {
   "cell_type": "code",
   "execution_count": 33,
   "id": "b674668b-fff4-42f8-97e0-d5efada02eb5",
   "metadata": {},
   "outputs": [],
   "source": [
    "numbers = '123456789'"
   ]
  },
  {
   "cell_type": "code",
   "execution_count": 35,
   "id": "511b7bff-f20e-40df-ab28-bdcec774076f",
   "metadata": {},
   "outputs": [
    {
     "data": {
      "text/plain": [
       "'2468'"
      ]
     },
     "execution_count": 35,
     "metadata": {},
     "output_type": "execute_result"
    }
   ],
   "source": [
    "numbers[1::2]"
   ]
  },
  {
   "cell_type": "code",
   "execution_count": 37,
   "id": "28e89ffc-96fd-414f-ac1b-e7880ab222a7",
   "metadata": {},
   "outputs": [
    {
     "data": {
      "text/plain": [
       "'987654321'"
      ]
     },
     "execution_count": 37,
     "metadata": {},
     "output_type": "execute_result"
    }
   ],
   "source": [
    "numbers[::-1] #reversing"
   ]
  },
  {
   "cell_type": "code",
   "execution_count": 39,
   "id": "187190c5-ad24-499a-a1c8-05ef7a20bca3",
   "metadata": {},
   "outputs": [],
   "source": [
    "# Concatination"
   ]
  },
  {
   "cell_type": "code",
   "execution_count": 45,
   "id": "7c7483b7-0fee-4612-901a-869a1594551d",
   "metadata": {},
   "outputs": [],
   "source": [
    "welcome = ('hi ' 'shrey')"
   ]
  },
  {
   "cell_type": "code",
   "execution_count": 47,
   "id": "910e5244-4b4c-416b-9453-38525797670b",
   "metadata": {},
   "outputs": [
    {
     "data": {
      "text/plain": [
       "'hi shrey'"
      ]
     },
     "execution_count": 47,
     "metadata": {},
     "output_type": "execute_result"
    }
   ],
   "source": [
    "welcome"
   ]
  },
  {
   "cell_type": "code",
   "execution_count": 55,
   "id": "950fd382-04c7-462b-8bb6-98b8c7af1ee3",
   "metadata": {},
   "outputs": [],
   "source": [
    "repeat = 'hello ' * 3"
   ]
  },
  {
   "cell_type": "code",
   "execution_count": 57,
   "id": "a23bdaeb-53ac-41a6-9f25-b920771efc68",
   "metadata": {},
   "outputs": [
    {
     "name": "stdout",
     "output_type": "stream",
     "text": [
      "hello hello hello \n"
     ]
    }
   ],
   "source": [
    "print(repeat)"
   ]
  },
  {
   "cell_type": "code",
   "execution_count": 59,
   "id": "74429b6f-e233-4334-8f58-0fa9ed0f4d61",
   "metadata": {},
   "outputs": [],
   "source": [
    "# MemberShips   -> They are Case Sensitive"
   ]
  },
  {
   "cell_type": "code",
   "execution_count": 64,
   "id": "cc67a00c-f3ad-46fa-ac0b-762d5a8cf736",
   "metadata": {},
   "outputs": [
    {
     "data": {
      "text/plain": [
       "True"
      ]
     },
     "execution_count": 64,
     "metadata": {},
     "output_type": "execute_result"
    }
   ],
   "source": [
    "'a' in 'hamberger'"
   ]
  },
  {
   "cell_type": "code",
   "execution_count": 66,
   "id": "ed98e799-ccae-47f0-bb70-2fad9f91dc0b",
   "metadata": {},
   "outputs": [
    {
     "data": {
      "text/plain": [
       "False"
      ]
     },
     "execution_count": 66,
     "metadata": {},
     "output_type": "execute_result"
    }
   ],
   "source": [
    "'a' not in 'hamberger'"
   ]
  },
  {
   "cell_type": "code",
   "execution_count": 68,
   "id": "0caddeb3-8b00-47b6-be7f-29b84f3a2d6b",
   "metadata": {},
   "outputs": [],
   "source": [
    "juice = 'Apple Strawberry'"
   ]
  },
  {
   "cell_type": "code",
   "execution_count": 70,
   "id": "251d6950-1152-44fb-9c4d-478cfe83c82d",
   "metadata": {},
   "outputs": [
    {
     "data": {
      "text/plain": [
       "False"
      ]
     },
     "execution_count": 70,
     "metadata": {},
     "output_type": "execute_result"
    }
   ],
   "source": [
    "'apple' in juice"
   ]
  },
  {
   "cell_type": "code",
   "execution_count": 72,
   "id": "b22ca4fc-6a8e-40e3-9610-8b563416db58",
   "metadata": {},
   "outputs": [
    {
     "data": {
      "text/plain": [
       "True"
      ]
     },
     "execution_count": 72,
     "metadata": {},
     "output_type": "execute_result"
    }
   ],
   "source": [
    "'Apple' in juice"
   ]
  },
  {
   "cell_type": "code",
   "execution_count": 74,
   "id": "f68d2230-8943-420b-a5f8-8ff2961c39aa",
   "metadata": {},
   "outputs": [],
   "source": [
    "winner1 = '123A'\n",
    "winner2 = '123A'"
   ]
  },
  {
   "cell_type": "code",
   "execution_count": 76,
   "id": "beecfddc-c7d9-428d-8a29-1db16efbeaeb",
   "metadata": {},
   "outputs": [
    {
     "data": {
      "text/plain": [
       "True"
      ]
     },
     "execution_count": 76,
     "metadata": {},
     "output_type": "execute_result"
    }
   ],
   "source": [
    "winner1 in winner2"
   ]
  },
  {
   "cell_type": "code",
   "execution_count": 80,
   "id": "2c87d57b-7ed2-499e-89f9-0f3f4db0abbb",
   "metadata": {},
   "outputs": [
    {
     "data": {
      "text/plain": [
       "False"
      ]
     },
     "execution_count": 80,
     "metadata": {},
     "output_type": "execute_result"
    }
   ],
   "source": [
    "'123a' in winner2"
   ]
  },
  {
   "cell_type": "code",
   "execution_count": 82,
   "id": "6c0f3af7-4780-4dec-a31c-9fe1ebd65c32",
   "metadata": {},
   "outputs": [],
   "source": [
    "# String Methods"
   ]
  },
  {
   "cell_type": "code",
   "execution_count": 84,
   "id": "495cfb2e-797e-48e2-bdea-5332243c0f7a",
   "metadata": {},
   "outputs": [],
   "source": [
    "sentence = 'I LOVE Python'"
   ]
  },
  {
   "cell_type": "code",
   "execution_count": 86,
   "id": "ebe27803-63fe-497c-8e51-f6a2b5913b6f",
   "metadata": {},
   "outputs": [],
   "source": [
    "new_sentence = sentence.capitalize()"
   ]
  },
  {
   "cell_type": "code",
   "execution_count": 88,
   "id": "fb4cdf72-136d-48c3-a8a8-0bcdd5c9643d",
   "metadata": {},
   "outputs": [
    {
     "data": {
      "text/plain": [
       "'I love python'"
      ]
     },
     "execution_count": 88,
     "metadata": {},
     "output_type": "execute_result"
    }
   ],
   "source": [
    "new_sentence"
   ]
  },
  {
   "cell_type": "code",
   "execution_count": 108,
   "id": "941a5e1f-caca-40b8-b916-417a708ed6c2",
   "metadata": {},
   "outputs": [
    {
     "data": {
      "text/plain": [
       "1"
      ]
     },
     "execution_count": 108,
     "metadata": {},
     "output_type": "execute_result"
    }
   ],
   "source": [
    "sentence.count('P')"
   ]
  },
  {
   "cell_type": "code",
   "execution_count": 98,
   "id": "e78a081d-8637-4934-bd81-b26e95d69919",
   "metadata": {},
   "outputs": [
    {
     "data": {
      "text/plain": [
       "True"
      ]
     },
     "execution_count": 98,
     "metadata": {},
     "output_type": "execute_result"
    }
   ],
   "source": [
    "sentence.endswith('n')"
   ]
  },
  {
   "cell_type": "code",
   "execution_count": 116,
   "id": "8a9a0b76-6d9e-40ba-95ea-74398342e3ea",
   "metadata": {},
   "outputs": [
    {
     "data": {
      "text/plain": [
       "2"
      ]
     },
     "execution_count": 116,
     "metadata": {},
     "output_type": "execute_result"
    }
   ],
   "source": [
    "sentence.find('L',0)"
   ]
  },
  {
   "cell_type": "code",
   "execution_count": 140,
   "id": "26e9b9b1-5a30-463c-9454-e2f3e2df7d48",
   "metadata": {},
   "outputs": [
    {
     "data": {
      "text/plain": [
       "2"
      ]
     },
     "execution_count": 140,
     "metadata": {},
     "output_type": "execute_result"
    }
   ],
   "source": [
    "sentence.index('L')   # does same as find, in case if character not found throws error and stops code from further execution"
   ]
  },
  {
   "cell_type": "code",
   "execution_count": 120,
   "id": "6d429456-ccc7-495f-affe-7f5de80d77f6",
   "metadata": {},
   "outputs": [
    {
     "data": {
      "text/plain": [
       "'   Hello'"
      ]
     },
     "execution_count": 120,
     "metadata": {},
     "output_type": "execute_result"
    }
   ],
   "source": [
    "'   Hello   '.rstrip()"
   ]
  },
  {
   "cell_type": "code",
   "execution_count": 122,
   "id": "e8df8599-b710-4aef-9cf1-fb425c161ea6",
   "metadata": {},
   "outputs": [
    {
     "data": {
      "text/plain": [
       "'Hello   '"
      ]
     },
     "execution_count": 122,
     "metadata": {},
     "output_type": "execute_result"
    }
   ],
   "source": [
    "'   Hello   '.lstrip()"
   ]
  },
  {
   "cell_type": "code",
   "execution_count": 124,
   "id": "4d985b54-cc56-4146-985f-32b4fbea9759",
   "metadata": {},
   "outputs": [
    {
     "data": {
      "text/plain": [
       "'Hello'"
      ]
     },
     "execution_count": 124,
     "metadata": {},
     "output_type": "execute_result"
    }
   ],
   "source": [
    "'   Hello  '.strip()"
   ]
  },
  {
   "cell_type": "code",
   "execution_count": 126,
   "id": "6f0c3248-32e2-48ca-aa1d-7518a89a486e",
   "metadata": {},
   "outputs": [],
   "source": [
    "# Format"
   ]
  },
  {
   "cell_type": "code",
   "execution_count": 130,
   "id": "c26fea76-8c07-4a38-bfec-f3b65619b5db",
   "metadata": {},
   "outputs": [
    {
     "data": {
      "text/plain": [
       "'hi i am shreyank'"
      ]
     },
     "execution_count": 130,
     "metadata": {},
     "output_type": "execute_result"
    }
   ],
   "source": [
    "'hi i am {}'.format('shreyank')"
   ]
  },
  {
   "cell_type": "code",
   "execution_count": 134,
   "id": "6cefd303-3e0c-4b29-b8f5-4b04d5deb363",
   "metadata": {},
   "outputs": [
    {
     "data": {
      "text/plain": [
       "'hi am with shreyank, varsha, and xyz'"
      ]
     },
     "execution_count": 134,
     "metadata": {},
     "output_type": "execute_result"
    }
   ],
   "source": [
    "'hi am with {}, {}, and {}'.format('shreyank','varsha','xyz')"
   ]
  },
  {
   "cell_type": "code",
   "execution_count": 136,
   "id": "5f1a9ec9-cec6-4890-84ef-bbb6a38d6d85",
   "metadata": {},
   "outputs": [
    {
     "data": {
      "text/plain": [
       "'hi am with varsha, shreyank, and xyz'"
      ]
     },
     "execution_count": 136,
     "metadata": {},
     "output_type": "execute_result"
    }
   ],
   "source": [
    "'hi am with {1}, {0}, and {2}'.format('shreyank','varsha','xyz')"
   ]
  },
  {
   "cell_type": "code",
   "execution_count": null,
   "id": "b363f56f-941e-4d82-b769-19ab396ad8c3",
   "metadata": {},
   "outputs": [],
   "source": []
  }
 ],
 "metadata": {
  "kernelspec": {
   "display_name": "Python [conda env:base] *",
   "language": "python",
   "name": "conda-base-py"
  },
  "language_info": {
   "codemirror_mode": {
    "name": "ipython",
    "version": 3
   },
   "file_extension": ".py",
   "mimetype": "text/x-python",
   "name": "python",
   "nbconvert_exporter": "python",
   "pygments_lexer": "ipython3",
   "version": "3.12.7"
  }
 },
 "nbformat": 4,
 "nbformat_minor": 5
}
