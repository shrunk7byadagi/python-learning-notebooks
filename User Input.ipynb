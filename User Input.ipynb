{
 "cells": [
  {
   "cell_type": "code",
   "execution_count": 1,
   "id": "dd2054cc-0d7d-4084-8b56-549b8520bf9e",
   "metadata": {},
   "outputs": [
    {
     "name": "stdin",
     "output_type": "stream",
     "text": [
      "What is your name shreyank\n"
     ]
    }
   ],
   "source": [
    "name = input('What is your name')"
   ]
  },
  {
   "cell_type": "code",
   "execution_count": 3,
   "id": "6b88de5c-e07f-4491-81c6-f73e92924ba7",
   "metadata": {},
   "outputs": [
    {
     "name": "stdin",
     "output_type": "stream",
     "text": [
      "what is your age:  31\n"
     ]
    }
   ],
   "source": [
    "age = int(input('what is your age: '))"
   ]
  },
  {
   "cell_type": "code",
   "execution_count": 5,
   "id": "e23b8218-2360-4913-b9b9-9c7c4e81bc94",
   "metadata": {},
   "outputs": [
    {
     "data": {
      "text/plain": [
       "31"
      ]
     },
     "execution_count": 5,
     "metadata": {},
     "output_type": "execute_result"
    }
   ],
   "source": [
    "age"
   ]
  },
  {
   "cell_type": "code",
   "execution_count": 7,
   "id": "0e307484-ea90-4c5f-bf47-5d90fd077273",
   "metadata": {},
   "outputs": [],
   "source": [
    "def play_game():\n",
    "    answer = ''\n",
    "    while answer.lower() not in ['n','y']:\n",
    "        answer = input(\"Do you want to play?:\")\n",
    "\n",
    "        if answer.lower() == 'y':\n",
    "            return True\n",
    "        elif answer.lower() == 'n':\n",
    "            return False\n",
    "        else:\n",
    "            print('Enter Y or N')\n",
    "\n",
    "        "
   ]
  },
  {
   "cell_type": "code",
   "execution_count": 9,
   "id": "53282d67-0791-4966-b1b3-5cc6495d4269",
   "metadata": {},
   "outputs": [
    {
     "name": "stdin",
     "output_type": "stream",
     "text": [
      "Do you want to play?: shr\n"
     ]
    },
    {
     "name": "stdout",
     "output_type": "stream",
     "text": [
      "Enter Y or N\n"
     ]
    },
    {
     "name": "stdin",
     "output_type": "stream",
     "text": [
      "Do you want to play?: y\n"
     ]
    },
    {
     "data": {
      "text/plain": [
       "True"
      ]
     },
     "execution_count": 9,
     "metadata": {},
     "output_type": "execute_result"
    }
   ],
   "source": [
    "play_game()"
   ]
  },
  {
   "cell_type": "code",
   "execution_count": 15,
   "id": "72c5bf33-607a-45f3-840c-8f35a8e93d42",
   "metadata": {},
   "outputs": [],
   "source": [
    "def check_num():\n",
    "    agge = ''\n",
    "    while agge.isdigit() == False:\n",
    "        agge = input('what is your age:')\n",
    "        if agge.isdigit() == False:\n",
    "            print('Enter digits only')\n",
    "    return agge        \n",
    "            "
   ]
  },
  {
   "cell_type": "code",
   "execution_count": 17,
   "id": "c3380f03-3af4-4c27-ae34-403ed9db7705",
   "metadata": {},
   "outputs": [
    {
     "name": "stdin",
     "output_type": "stream",
     "text": [
      "what is your age: fsd\n"
     ]
    },
    {
     "name": "stdout",
     "output_type": "stream",
     "text": [
      "Enter digits only\n"
     ]
    },
    {
     "name": "stdin",
     "output_type": "stream",
     "text": [
      "what is your age: 21\n"
     ]
    },
    {
     "data": {
      "text/plain": [
       "'21'"
      ]
     },
     "execution_count": 17,
     "metadata": {},
     "output_type": "execute_result"
    }
   ],
   "source": [
    "check_num()"
   ]
  },
  {
   "cell_type": "code",
   "execution_count": null,
   "id": "16919a3e-21a2-4475-a6fb-81842aea5988",
   "metadata": {},
   "outputs": [],
   "source": []
  }
 ],
 "metadata": {
  "kernelspec": {
   "display_name": "Python [conda env:base] *",
   "language": "python",
   "name": "conda-base-py"
  },
  "language_info": {
   "codemirror_mode": {
    "name": "ipython",
    "version": 3
   },
   "file_extension": ".py",
   "mimetype": "text/x-python",
   "name": "python",
   "nbconvert_exporter": "python",
   "pygments_lexer": "ipython3",
   "version": "3.12.7"
  }
 },
 "nbformat": 4,
 "nbformat_minor": 5
}
